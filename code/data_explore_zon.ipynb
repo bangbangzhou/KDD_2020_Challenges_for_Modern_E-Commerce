{
 "cells": [
  {
   "cell_type": "code",
   "execution_count": 1,
   "metadata": {},
   "outputs": [],
   "source": [
    "# date: 2020/5/12\n",
    "# author: zonnoz\n",
    "# description: 数据探索，数据路径可能需修改\n",
    "\n",
    "import pandas as pd\n",
    "import numpy as np\n",
    "from tqdm import tqdm \n",
    "import warnings\n",
    "warnings.filterwarnings(\"ignore\")"
   ]
  },
  {
   "cell_type": "markdown",
   "metadata": {},
   "source": [
    "## 查看用户数据"
   ]
  },
  {
   "cell_type": "code",
   "execution_count": 21,
   "metadata": {},
   "outputs": [],
   "source": [
    "underexpose_user_feat = pd.read_csv(\"./data/underexpose_train/underexpose_user_feat.csv\", \n",
    "                                    names=[\"user_id\", \"user_age_level\", \"user_gender\", \"user_city_level\"], \n",
    "                                    nrows=None, \n",
    "                                    sep=\",\")"
   ]
  },
  {
   "cell_type": "code",
   "execution_count": 22,
   "metadata": {},
   "outputs": [
    {
     "data": {
      "text/html": [
       "<div>\n",
       "<style scoped>\n",
       "    .dataframe tbody tr th:only-of-type {\n",
       "        vertical-align: middle;\n",
       "    }\n",
       "\n",
       "    .dataframe tbody tr th {\n",
       "        vertical-align: top;\n",
       "    }\n",
       "\n",
       "    .dataframe thead th {\n",
       "        text-align: right;\n",
       "    }\n",
       "</style>\n",
       "<table border=\"1\" class=\"dataframe\">\n",
       "  <thead>\n",
       "    <tr style=\"text-align: right;\">\n",
       "      <th></th>\n",
       "      <th>user_id</th>\n",
       "      <th>user_age_level</th>\n",
       "      <th>user_gender</th>\n",
       "      <th>user_city_level</th>\n",
       "    </tr>\n",
       "  </thead>\n",
       "  <tbody>\n",
       "    <tr>\n",
       "      <th>0</th>\n",
       "      <td>17</td>\n",
       "      <td>8.0</td>\n",
       "      <td>M</td>\n",
       "      <td>4.0</td>\n",
       "    </tr>\n",
       "    <tr>\n",
       "      <th>1</th>\n",
       "      <td>26</td>\n",
       "      <td>7.0</td>\n",
       "      <td>M</td>\n",
       "      <td>2.0</td>\n",
       "    </tr>\n",
       "    <tr>\n",
       "      <th>2</th>\n",
       "      <td>35</td>\n",
       "      <td>6.0</td>\n",
       "      <td>F</td>\n",
       "      <td>4.0</td>\n",
       "    </tr>\n",
       "    <tr>\n",
       "      <th>3</th>\n",
       "      <td>40</td>\n",
       "      <td>6.0</td>\n",
       "      <td>M</td>\n",
       "      <td>1.0</td>\n",
       "    </tr>\n",
       "    <tr>\n",
       "      <th>4</th>\n",
       "      <td>49</td>\n",
       "      <td>6.0</td>\n",
       "      <td>M</td>\n",
       "      <td>1.0</td>\n",
       "    </tr>\n",
       "  </tbody>\n",
       "</table>\n",
       "</div>"
      ],
      "text/plain": [
       "   user_id  user_age_level user_gender  user_city_level\n",
       "0       17             8.0           M              4.0\n",
       "1       26             7.0           M              2.0\n",
       "2       35             6.0           F              4.0\n",
       "3       40             6.0           M              1.0\n",
       "4       49             6.0           M              1.0"
      ]
     },
     "execution_count": 22,
     "metadata": {},
     "output_type": "execute_result"
    }
   ],
   "source": [
    "underexpose_user_feat.head()"
   ]
  },
  {
   "cell_type": "markdown",
   "metadata": {},
   "source": [
    "### 用户 user_id 个数"
   ]
  },
  {
   "cell_type": "code",
   "execution_count": 23,
   "metadata": {},
   "outputs": [
    {
     "data": {
      "text/plain": [
       "6789"
      ]
     },
     "execution_count": 23,
     "metadata": {},
     "output_type": "execute_result"
    }
   ],
   "source": [
    "underexpose_user_feat.user_id.count()"
   ]
  },
  {
   "cell_type": "code",
   "execution_count": 24,
   "metadata": {},
   "outputs": [
    {
     "data": {
      "text/plain": [
       "6786"
      ]
     },
     "execution_count": 24,
     "metadata": {},
     "output_type": "execute_result"
    }
   ],
   "source": [
    "underexpose_user_feat.user_id.nunique()"
   ]
  },
  {
   "cell_type": "code",
   "execution_count": 29,
   "metadata": {},
   "outputs": [
    {
     "name": "stdout",
     "output_type": "stream",
     "text": [
      "      user_id  user_age_level user_gender  user_city_level\n",
      "1466    14818             3.0           M              3.0\n",
      "1467    14818             2.0           M              3.0\n",
      "5733    23453             5.0           F              2.0\n",
      "5734    23453             5.0           F              5.0\n",
      "6513    32152             1.0           F              6.0\n",
      "6514    32152             2.0           F              6.0\n"
     ]
    }
   ],
   "source": [
    "underexpose_user_feat_duplicate_row = underexpose_user_feat.duplicated(subset=['user_id'], keep=False) \n",
    "underexpose_user_feat_duplicate_data = underexpose_user_feat.loc[underexpose_user_feat_duplicate_row,:]\n",
    "print(underexpose_user_feat_duplicate_data)"
   ]
  },
  {
   "cell_type": "markdown",
   "metadata": {},
   "source": [
    "- 三个用户的信息不一致"
   ]
  },
  {
   "cell_type": "markdown",
   "metadata": {},
   "source": [
    "### 用户年龄等级 user_age_level 分布 "
   ]
  },
  {
   "cell_type": "code",
   "execution_count": 31,
   "metadata": {},
   "outputs": [
    {
     "data": {
      "text/plain": [
       " 8.0     294\n",
       " 7.0     890\n",
       " 6.0     817\n",
       " 5.0    1363\n",
       " 4.0    1425\n",
       "NaN       83\n",
       " 2.0     869\n",
       " 3.0     816\n",
       " 1.0     232\n",
       "Name: user_age_level, dtype: int64"
      ]
     },
     "execution_count": 31,
     "metadata": {},
     "output_type": "execute_result"
    }
   ],
   "source": [
    "underexpose_user_feat.user_age_level.value_counts(dropna=False,ascending=False,sort=False)"
   ]
  },
  {
   "cell_type": "markdown",
   "metadata": {},
   "source": [
    "### 用户 user_gender 分布"
   ]
  },
  {
   "cell_type": "code",
   "execution_count": 32,
   "metadata": {},
   "outputs": [
    {
     "data": {
      "text/plain": [
       "NaN      81\n",
       "F      5211\n",
       "M      1497\n",
       "Name: user_gender, dtype: int64"
      ]
     },
     "execution_count": 32,
     "metadata": {},
     "output_type": "execute_result"
    }
   ],
   "source": [
    "underexpose_user_feat.user_gender.value_counts(dropna=False,ascending=False,sort=False)"
   ]
  },
  {
   "cell_type": "markdown",
   "metadata": {},
   "source": [
    "### 用户 user_city_level 分布"
   ]
  },
  {
   "cell_type": "code",
   "execution_count": 33,
   "metadata": {},
   "outputs": [
    {
     "data": {
      "text/plain": [
       " 4.0     541\n",
       " 2.0    1515\n",
       " 1.0     760\n",
       " 6.0    1870\n",
       "NaN       22\n",
       " 3.0    1242\n",
       " 5.0     839\n",
       "Name: user_city_level, dtype: int64"
      ]
     },
     "execution_count": 33,
     "metadata": {},
     "output_type": "execute_result"
    }
   ],
   "source": [
    "underexpose_user_feat.user_city_level.value_counts(dropna=False,ascending=False,sort=False)"
   ]
  },
  {
   "cell_type": "markdown",
   "metadata": {},
   "source": [
    "## 查看商品候选集"
   ]
  },
  {
   "cell_type": "code",
   "execution_count": 36,
   "metadata": {},
   "outputs": [
    {
     "name": "stderr",
     "output_type": "stream",
     "text": [
      "108916it [00:03, 31905.31it/s]\n"
     ]
    }
   ],
   "source": [
    "list_item_id = []\n",
    "list_txt_vec = []\n",
    "list_img_vec = []\n",
    "\n",
    "with open(\"./data/underexpose_train/underexpose_item_feat.csv\") as f:\n",
    "    for line in tqdm(f):\n",
    "        line_split = line.strip().split(\",[\")\n",
    "        list_item_id.append(line_split[0])\n",
    "        list_txt_vec.append(line_split[1].strip(\"]\"))\n",
    "        list_img_vec.append(line_split[2].strip(\"]\"))\n",
    "\n",
    "underexpose_item_feat = pd.DataFrame({\"item_id\": list_item_id, \"txt_vec\": list_txt_vec, \"img_vec\": list_img_vec})"
   ]
  },
  {
   "cell_type": "code",
   "execution_count": 37,
   "metadata": {},
   "outputs": [
    {
     "data": {
      "text/html": [
       "<div>\n",
       "<style scoped>\n",
       "    .dataframe tbody tr th:only-of-type {\n",
       "        vertical-align: middle;\n",
       "    }\n",
       "\n",
       "    .dataframe tbody tr th {\n",
       "        vertical-align: top;\n",
       "    }\n",
       "\n",
       "    .dataframe thead th {\n",
       "        text-align: right;\n",
       "    }\n",
       "</style>\n",
       "<table border=\"1\" class=\"dataframe\">\n",
       "  <thead>\n",
       "    <tr style=\"text-align: right;\">\n",
       "      <th></th>\n",
       "      <th>item_id</th>\n",
       "      <th>txt_vec</th>\n",
       "      <th>img_vec</th>\n",
       "    </tr>\n",
       "  </thead>\n",
       "  <tbody>\n",
       "    <tr>\n",
       "      <th>0</th>\n",
       "      <td>42844</td>\n",
       "      <td>4.514945030212402, -2.3837196826934814, 0.5004...</td>\n",
       "      <td>-2.8722801208496094, 1.4587551355361938, 2.579...</td>\n",
       "    </tr>\n",
       "    <tr>\n",
       "      <th>1</th>\n",
       "      <td>67898</td>\n",
       "      <td>-2.0029051303863525, -0.9298805594444275, 0.79...</td>\n",
       "      <td>-0.07052088528871536, -1.4393335580825806, 0.7...</td>\n",
       "    </tr>\n",
       "    <tr>\n",
       "      <th>2</th>\n",
       "      <td>66446</td>\n",
       "      <td>4.221673011779785, -1.4971394538879395, 1.1335...</td>\n",
       "      <td>-5.18036413192749, -0.38824713230133057, -0.03...</td>\n",
       "    </tr>\n",
       "    <tr>\n",
       "      <th>3</th>\n",
       "      <td>63651</td>\n",
       "      <td>2.6579699516296387, -0.941863477230072, 1.1215...</td>\n",
       "      <td>-1.077273964881897, 2.8394529819488525, 1.1834...</td>\n",
       "    </tr>\n",
       "    <tr>\n",
       "      <th>4</th>\n",
       "      <td>46824</td>\n",
       "      <td>3.192194938659668, -1.9366759061813354, 1.1999...</td>\n",
       "      <td>-3.2601945400238037, 0.49889034032821655, 2.58...</td>\n",
       "    </tr>\n",
       "  </tbody>\n",
       "</table>\n",
       "</div>"
      ],
      "text/plain": [
       "  item_id                                            txt_vec  \\\n",
       "0   42844  4.514945030212402, -2.3837196826934814, 0.5004...   \n",
       "1   67898  -2.0029051303863525, -0.9298805594444275, 0.79...   \n",
       "2   66446  4.221673011779785, -1.4971394538879395, 1.1335...   \n",
       "3   63651  2.6579699516296387, -0.941863477230072, 1.1215...   \n",
       "4   46824  3.192194938659668, -1.9366759061813354, 1.1999...   \n",
       "\n",
       "                                             img_vec  \n",
       "0  -2.8722801208496094, 1.4587551355361938, 2.579...  \n",
       "1  -0.07052088528871536, -1.4393335580825806, 0.7...  \n",
       "2  -5.18036413192749, -0.38824713230133057, -0.03...  \n",
       "3  -1.077273964881897, 2.8394529819488525, 1.1834...  \n",
       "4  -3.2601945400238037, 0.49889034032821655, 2.58...  "
      ]
     },
     "execution_count": 37,
     "metadata": {},
     "output_type": "execute_result"
    }
   ],
   "source": [
    "underexpose_item_feat.head()"
   ]
  },
  {
   "cell_type": "markdown",
   "metadata": {},
   "source": [
    "### 查看商品 item_id 个数"
   ]
  },
  {
   "cell_type": "code",
   "execution_count": 38,
   "metadata": {},
   "outputs": [
    {
     "data": {
      "text/plain": [
       "108916"
      ]
     },
     "execution_count": 38,
     "metadata": {},
     "output_type": "execute_result"
    }
   ],
   "source": [
    "underexpose_item_feat.item_id.count()"
   ]
  },
  {
   "cell_type": "code",
   "execution_count": 39,
   "metadata": {},
   "outputs": [
    {
     "data": {
      "text/plain": [
       "108916"
      ]
     },
     "execution_count": 39,
     "metadata": {},
     "output_type": "execute_result"
    }
   ],
   "source": [
    "underexpose_item_feat.item_id.nunique()"
   ]
  },
  {
   "cell_type": "markdown",
   "metadata": {},
   "source": [
    "## 用户点击商品数据"
   ]
  },
  {
   "cell_type": "code",
   "execution_count": 41,
   "metadata": {},
   "outputs": [],
   "source": [
    "list_phase_range = [0, 1, 2, 3, 4, 5]\n",
    "list_train_click_file = [(x, \"./data/underexpose_train/underexpose_train_click-\"+str(x)+\".csv\") for x in list_phase_range]"
   ]
  },
  {
   "cell_type": "code",
   "execution_count": 45,
   "metadata": {},
   "outputs": [
    {
     "data": {
      "text/plain": [
       "[(0, './data/underexpose_train/underexpose_train_click-0.csv'),\n",
       " (1, './data/underexpose_train/underexpose_train_click-1.csv'),\n",
       " (2, './data/underexpose_train/underexpose_train_click-2.csv'),\n",
       " (3, './data/underexpose_train/underexpose_train_click-3.csv'),\n",
       " (4, './data/underexpose_train/underexpose_train_click-4.csv'),\n",
       " (5, './data/underexpose_train/underexpose_train_click-5.csv')]"
      ]
     },
     "execution_count": 45,
     "metadata": {},
     "output_type": "execute_result"
    }
   ],
   "source": [
    "list_train_click_file"
   ]
  },
  {
   "cell_type": "code",
   "execution_count": 43,
   "metadata": {},
   "outputs": [],
   "source": [
    "def get_train_click(list_train_click_file):\n",
    "    list_underexpose_click = []\n",
    "    columns = [\"user_id\", \"item_id\", \"time\", \"phase\"]\n",
    "    for phase, file in tqdm(list_train_click_file):\n",
    "        underexpose_click = pd.read_csv(file,\n",
    "                                        names=[\"user_id\", \"item_id\", \"time\"], \n",
    "                                        nrows=None,\n",
    "                                        sep=\",\"\n",
    "                                       )\n",
    "        underexpose_click[\"phase\"] = phase\n",
    "        underexpose_click = underexpose_click[columns]\n",
    "        list_underexpose_click.append(underexpose_click)\n",
    "    \n",
    "    all_underexpose_click = pd.concat(list_underexpose_click)\n",
    "    return all_underexpose_click"
   ]
  },
  {
   "cell_type": "code",
   "execution_count": 46,
   "metadata": {},
   "outputs": [
    {
     "name": "stderr",
     "output_type": "stream",
     "text": [
      "100%|████████████████████████████████████████████████████████████████████████████████████| 6/6 [00:02<00:00,  2.15it/s]\n"
     ]
    }
   ],
   "source": [
    "underexpose_train_click = get_train_click(list_train_click_file)"
   ]
  },
  {
   "cell_type": "markdown",
   "metadata": {},
   "source": [
    "### 查看用户点击商品数据"
   ]
  },
  {
   "cell_type": "code",
   "execution_count": 47,
   "metadata": {},
   "outputs": [
    {
     "data": {
      "text/plain": [
       "1546265"
      ]
     },
     "execution_count": 47,
     "metadata": {},
     "output_type": "execute_result"
    }
   ],
   "source": [
    "len(underexpose_train_click)"
   ]
  },
  {
   "cell_type": "code",
   "execution_count": 48,
   "metadata": {},
   "outputs": [
    {
     "data": {
      "text/html": [
       "<div>\n",
       "<style scoped>\n",
       "    .dataframe tbody tr th:only-of-type {\n",
       "        vertical-align: middle;\n",
       "    }\n",
       "\n",
       "    .dataframe tbody tr th {\n",
       "        vertical-align: top;\n",
       "    }\n",
       "\n",
       "    .dataframe thead th {\n",
       "        text-align: right;\n",
       "    }\n",
       "</style>\n",
       "<table border=\"1\" class=\"dataframe\">\n",
       "  <thead>\n",
       "    <tr style=\"text-align: right;\">\n",
       "      <th></th>\n",
       "      <th>user_id</th>\n",
       "      <th>item_id</th>\n",
       "      <th>time</th>\n",
       "      <th>phase</th>\n",
       "    </tr>\n",
       "  </thead>\n",
       "  <tbody>\n",
       "    <tr>\n",
       "      <th>0</th>\n",
       "      <td>4965</td>\n",
       "      <td>18</td>\n",
       "      <td>0.983763</td>\n",
       "      <td>0</td>\n",
       "    </tr>\n",
       "    <tr>\n",
       "      <th>1</th>\n",
       "      <td>20192</td>\n",
       "      <td>34</td>\n",
       "      <td>0.983772</td>\n",
       "      <td>0</td>\n",
       "    </tr>\n",
       "    <tr>\n",
       "      <th>2</th>\n",
       "      <td>30128</td>\n",
       "      <td>91</td>\n",
       "      <td>0.983780</td>\n",
       "      <td>0</td>\n",
       "    </tr>\n",
       "    <tr>\n",
       "      <th>3</th>\n",
       "      <td>29473</td>\n",
       "      <td>189</td>\n",
       "      <td>0.983930</td>\n",
       "      <td>0</td>\n",
       "    </tr>\n",
       "    <tr>\n",
       "      <th>4</th>\n",
       "      <td>10625</td>\n",
       "      <td>225</td>\n",
       "      <td>0.983925</td>\n",
       "      <td>0</td>\n",
       "    </tr>\n",
       "  </tbody>\n",
       "</table>\n",
       "</div>"
      ],
      "text/plain": [
       "   user_id  item_id      time  phase\n",
       "0     4965       18  0.983763      0\n",
       "1    20192       34  0.983772      0\n",
       "2    30128       91  0.983780      0\n",
       "3    29473      189  0.983930      0\n",
       "4    10625      225  0.983925      0"
      ]
     },
     "execution_count": 48,
     "metadata": {},
     "output_type": "execute_result"
    }
   ],
   "source": [
    "underexpose_train_click.head()"
   ]
  },
  {
   "cell_type": "code",
   "execution_count": 49,
   "metadata": {},
   "outputs": [
    {
     "data": {
      "text/html": [
       "<div>\n",
       "<style scoped>\n",
       "    .dataframe tbody tr th:only-of-type {\n",
       "        vertical-align: middle;\n",
       "    }\n",
       "\n",
       "    .dataframe tbody tr th {\n",
       "        vertical-align: top;\n",
       "    }\n",
       "\n",
       "    .dataframe thead th {\n",
       "        text-align: right;\n",
       "    }\n",
       "</style>\n",
       "<table border=\"1\" class=\"dataframe\">\n",
       "  <thead>\n",
       "    <tr style=\"text-align: right;\">\n",
       "      <th></th>\n",
       "      <th>user_id</th>\n",
       "      <th>item_id</th>\n",
       "      <th>time</th>\n",
       "      <th>phase</th>\n",
       "    </tr>\n",
       "  </thead>\n",
       "  <tbody>\n",
       "    <tr>\n",
       "      <th>19829</th>\n",
       "      <td>1</td>\n",
       "      <td>78142</td>\n",
       "      <td>0.983742</td>\n",
       "      <td>0</td>\n",
       "    </tr>\n",
       "    <tr>\n",
       "      <th>236132</th>\n",
       "      <td>1</td>\n",
       "      <td>26646</td>\n",
       "      <td>0.983757</td>\n",
       "      <td>0</td>\n",
       "    </tr>\n",
       "    <tr>\n",
       "      <th>20480</th>\n",
       "      <td>1</td>\n",
       "      <td>89568</td>\n",
       "      <td>0.983763</td>\n",
       "      <td>0</td>\n",
       "    </tr>\n",
       "    <tr>\n",
       "      <th>19709</th>\n",
       "      <td>1</td>\n",
       "      <td>76240</td>\n",
       "      <td>0.983770</td>\n",
       "      <td>0</td>\n",
       "    </tr>\n",
       "    <tr>\n",
       "      <th>108033</th>\n",
       "      <td>1</td>\n",
       "      <td>87533</td>\n",
       "      <td>0.983790</td>\n",
       "      <td>0</td>\n",
       "    </tr>\n",
       "    <tr>\n",
       "      <th>56362</th>\n",
       "      <td>1</td>\n",
       "      <td>78380</td>\n",
       "      <td>0.983790</td>\n",
       "      <td>0</td>\n",
       "    </tr>\n",
       "    <tr>\n",
       "      <th>159250</th>\n",
       "      <td>1</td>\n",
       "      <td>85492</td>\n",
       "      <td>0.983875</td>\n",
       "      <td>0</td>\n",
       "    </tr>\n",
       "    <tr>\n",
       "      <th>160489</th>\n",
       "      <td>1</td>\n",
       "      <td>85492</td>\n",
       "      <td>0.983875</td>\n",
       "      <td>2</td>\n",
       "    </tr>\n",
       "    <tr>\n",
       "      <th>20968</th>\n",
       "      <td>1</td>\n",
       "      <td>97795</td>\n",
       "      <td>0.983877</td>\n",
       "      <td>0</td>\n",
       "    </tr>\n",
       "    <tr>\n",
       "      <th>111177</th>\n",
       "      <td>1</td>\n",
       "      <td>18522</td>\n",
       "      <td>0.983887</td>\n",
       "      <td>0</td>\n",
       "    </tr>\n",
       "    <tr>\n",
       "      <th>112207</th>\n",
       "      <td>1</td>\n",
       "      <td>18522</td>\n",
       "      <td>0.983887</td>\n",
       "      <td>2</td>\n",
       "    </tr>\n",
       "    <tr>\n",
       "      <th>175014</th>\n",
       "      <td>1</td>\n",
       "      <td>81337</td>\n",
       "      <td>0.983887</td>\n",
       "      <td>2</td>\n",
       "    </tr>\n",
       "    <tr>\n",
       "      <th>3123</th>\n",
       "      <td>1</td>\n",
       "      <td>47611</td>\n",
       "      <td>0.983887</td>\n",
       "      <td>0</td>\n",
       "    </tr>\n",
       "    <tr>\n",
       "      <th>214540</th>\n",
       "      <td>1</td>\n",
       "      <td>31443</td>\n",
       "      <td>0.983887</td>\n",
       "      <td>0</td>\n",
       "    </tr>\n",
       "    <tr>\n",
       "      <th>208867</th>\n",
       "      <td>1</td>\n",
       "      <td>31443</td>\n",
       "      <td>0.983887</td>\n",
       "      <td>2</td>\n",
       "    </tr>\n",
       "    <tr>\n",
       "      <th>74513</th>\n",
       "      <td>1</td>\n",
       "      <td>17887</td>\n",
       "      <td>0.983894</td>\n",
       "      <td>0</td>\n",
       "    </tr>\n",
       "    <tr>\n",
       "      <th>84964</th>\n",
       "      <td>1</td>\n",
       "      <td>69359</td>\n",
       "      <td>0.983942</td>\n",
       "      <td>0</td>\n",
       "    </tr>\n",
       "    <tr>\n",
       "      <th>78353</th>\n",
       "      <td>1</td>\n",
       "      <td>69359</td>\n",
       "      <td>0.983942</td>\n",
       "      <td>2</td>\n",
       "    </tr>\n",
       "    <tr>\n",
       "      <th>92822</th>\n",
       "      <td>1</td>\n",
       "      <td>69359</td>\n",
       "      <td>0.983942</td>\n",
       "      <td>3</td>\n",
       "    </tr>\n",
       "    <tr>\n",
       "      <th>186580</th>\n",
       "      <td>1</td>\n",
       "      <td>28869</td>\n",
       "      <td>0.984030</td>\n",
       "      <td>2</td>\n",
       "    </tr>\n",
       "  </tbody>\n",
       "</table>\n",
       "</div>"
      ],
      "text/plain": [
       "        user_id  item_id      time  phase\n",
       "19829         1    78142  0.983742      0\n",
       "236132        1    26646  0.983757      0\n",
       "20480         1    89568  0.983763      0\n",
       "19709         1    76240  0.983770      0\n",
       "108033        1    87533  0.983790      0\n",
       "56362         1    78380  0.983790      0\n",
       "159250        1    85492  0.983875      0\n",
       "160489        1    85492  0.983875      2\n",
       "20968         1    97795  0.983877      0\n",
       "111177        1    18522  0.983887      0\n",
       "112207        1    18522  0.983887      2\n",
       "175014        1    81337  0.983887      2\n",
       "3123          1    47611  0.983887      0\n",
       "214540        1    31443  0.983887      0\n",
       "208867        1    31443  0.983887      2\n",
       "74513         1    17887  0.983894      0\n",
       "84964         1    69359  0.983942      0\n",
       "78353         1    69359  0.983942      2\n",
       "92822         1    69359  0.983942      3\n",
       "186580        1    28869  0.984030      2"
      ]
     },
     "execution_count": 49,
     "metadata": {},
     "output_type": "execute_result"
    }
   ],
   "source": [
    "underexpose_train_click.sort_values(['user_id','time']).head(20)"
   ]
  },
  {
   "cell_type": "markdown",
   "metadata": {},
   "source": [
    "## 用户点击商品数据-测试集"
   ]
  },
  {
   "cell_type": "code",
   "execution_count": 58,
   "metadata": {},
   "outputs": [],
   "source": [
    "list_phase_range = [0,1,2,3,4,5]\n",
    "list_test_phase_file = [(x_,\"./data/underexpose_test/underexpose_test_click/underexpose_test_click-\"+str(x_)+\".csv\") for x_ in list_phase_range]\n",
    "list_test_phase_query_file = [(x_,\"./data/underexpose_test/underexpose_test_qtime/underexpose_test_qtime-\"+str(x_)+\".csv\") for x_ in list_phase_range]"
   ]
  },
  {
   "cell_type": "code",
   "execution_count": 59,
   "metadata": {},
   "outputs": [
    {
     "data": {
      "text/plain": [
       "[(0,\n",
       "  './data/underexpose_test/underexpose_test_click/underexpose_test_click-0.csv'),\n",
       " (1,\n",
       "  './data/underexpose_test/underexpose_test_click/underexpose_test_click-1.csv'),\n",
       " (2,\n",
       "  './data/underexpose_test/underexpose_test_click/underexpose_test_click-2.csv'),\n",
       " (3,\n",
       "  './data/underexpose_test/underexpose_test_click/underexpose_test_click-3.csv'),\n",
       " (4,\n",
       "  './data/underexpose_test/underexpose_test_click/underexpose_test_click-4.csv'),\n",
       " (5,\n",
       "  './data/underexpose_test/underexpose_test_click/underexpose_test_click-5.csv')]"
      ]
     },
     "execution_count": 59,
     "metadata": {},
     "output_type": "execute_result"
    }
   ],
   "source": [
    "list_test_phase_file"
   ]
  },
  {
   "cell_type": "code",
   "execution_count": 60,
   "metadata": {},
   "outputs": [
    {
     "data": {
      "text/plain": [
       "[(0,\n",
       "  './data/underexpose_test/underexpose_test_qtime/underexpose_test_qtime-0.csv'),\n",
       " (1,\n",
       "  './data/underexpose_test/underexpose_test_qtime/underexpose_test_qtime-1.csv'),\n",
       " (2,\n",
       "  './data/underexpose_test/underexpose_test_qtime/underexpose_test_qtime-2.csv'),\n",
       " (3,\n",
       "  './data/underexpose_test/underexpose_test_qtime/underexpose_test_qtime-3.csv'),\n",
       " (4,\n",
       "  './data/underexpose_test/underexpose_test_qtime/underexpose_test_qtime-4.csv'),\n",
       " (5,\n",
       "  './data/underexpose_test/underexpose_test_qtime/underexpose_test_qtime-5.csv')]"
      ]
     },
     "execution_count": 60,
     "metadata": {},
     "output_type": "execute_result"
    }
   ],
   "source": [
    "list_test_phase_query_file"
   ]
  },
  {
   "cell_type": "code",
   "execution_count": 61,
   "metadata": {},
   "outputs": [],
   "source": [
    "def get_test_click(list_test_phase_file, list_test_phase_query_file):\n",
    "    list_underexpose_click = []\n",
    "    columns = [\"user_id\", \"item_id\", \"time\", \"phase\"]\n",
    "    for phase, file in tqdm(list_test_phase_file): # 测试集\n",
    "        underexpose_click = pd.read_csv(file, \n",
    "                                        names=[\"user_id\", \"item_id\", \"time\"],\n",
    "                                        nrows=None,\n",
    "                                        sep=\",\"\n",
    "                                       )\n",
    "        underexpose_click[\"phase\"] = phase\n",
    "        underexpose_click = underexpose_click[columns] \n",
    "        list_underexpose_click.append(underexpose_click)\n",
    "\n",
    "    for phase, file in tqdm(list_test_phase_query_file):\n",
    "        underexpose_qtime = pd.read_csv(file\n",
    "                                    ,names=[\"user_id\", \"query_time\"]\n",
    "                                    ,nrows=None      \n",
    "                                    ,sep=\",\"\n",
    "                                   )   \n",
    "        underexpose_qtime.columns = [\"user_id\", \"time\"]\n",
    "        underexpose_qtime[\"phase\"] = phase\n",
    "        underexpose_qtime[\"item_id\"] = -999  # 预测集标记\n",
    "        underexpose_qtime = underexpose_qtime[columns]\n",
    "        list_underexpose_click.append(underexpose_qtime)\n",
    "    \n",
    "    all_underexpose_click = pd.concat(list_underexpose_click)\n",
    "    return all_underexpose_click[columns]"
   ]
  },
  {
   "cell_type": "code",
   "execution_count": 62,
   "metadata": {},
   "outputs": [
    {
     "name": "stderr",
     "output_type": "stream",
     "text": [
      "100%|████████████████████████████████████████████████████████████████████████████████████| 6/6 [00:00<00:00, 20.74it/s]\n",
      "100%|████████████████████████████████████████████████████████████████████████████████████| 6/6 [00:00<00:00, 82.26it/s]\n"
     ]
    }
   ],
   "source": [
    "underexpose_test_click = get_test_click(list_test_phase_file, list_test_phase_query_file)"
   ]
  },
  {
   "cell_type": "code",
   "execution_count": 75,
   "metadata": {},
   "outputs": [
    {
     "data": {
      "text/html": [
       "<div>\n",
       "<style scoped>\n",
       "    .dataframe tbody tr th:only-of-type {\n",
       "        vertical-align: middle;\n",
       "    }\n",
       "\n",
       "    .dataframe tbody tr th {\n",
       "        vertical-align: top;\n",
       "    }\n",
       "\n",
       "    .dataframe thead th {\n",
       "        text-align: right;\n",
       "    }\n",
       "</style>\n",
       "<table border=\"1\" class=\"dataframe\">\n",
       "  <thead>\n",
       "    <tr style=\"text-align: right;\">\n",
       "      <th></th>\n",
       "      <th>user_id</th>\n",
       "      <th>item_id</th>\n",
       "      <th>time</th>\n",
       "      <th>phase</th>\n",
       "    </tr>\n",
       "  </thead>\n",
       "  <tbody>\n",
       "    <tr>\n",
       "      <th>0</th>\n",
       "      <td>1133</td>\n",
       "      <td>221</td>\n",
       "      <td>0.983812</td>\n",
       "      <td>0</td>\n",
       "    </tr>\n",
       "    <tr>\n",
       "      <th>1</th>\n",
       "      <td>17864</td>\n",
       "      <td>253</td>\n",
       "      <td>0.983783</td>\n",
       "      <td>0</td>\n",
       "    </tr>\n",
       "    <tr>\n",
       "      <th>2</th>\n",
       "      <td>6941</td>\n",
       "      <td>309</td>\n",
       "      <td>0.983785</td>\n",
       "      <td>0</td>\n",
       "    </tr>\n",
       "    <tr>\n",
       "      <th>3</th>\n",
       "      <td>34089</td>\n",
       "      <td>358</td>\n",
       "      <td>0.983781</td>\n",
       "      <td>0</td>\n",
       "    </tr>\n",
       "    <tr>\n",
       "      <th>4</th>\n",
       "      <td>21659</td>\n",
       "      <td>536</td>\n",
       "      <td>0.983793</td>\n",
       "      <td>0</td>\n",
       "    </tr>\n",
       "  </tbody>\n",
       "</table>\n",
       "</div>"
      ],
      "text/plain": [
       "   user_id  item_id      time  phase\n",
       "0     1133      221  0.983812      0\n",
       "1    17864      253  0.983783      0\n",
       "2     6941      309  0.983785      0\n",
       "3    34089      358  0.983781      0\n",
       "4    21659      536  0.983793      0"
      ]
     },
     "execution_count": 75,
     "metadata": {},
     "output_type": "execute_result"
    }
   ],
   "source": [
    "underexpose_test_click.head()"
   ]
  },
  {
   "cell_type": "code",
   "execution_count": 77,
   "metadata": {},
   "outputs": [
    {
     "data": {
      "text/plain": [
       "10260"
      ]
     },
     "execution_count": 77,
     "metadata": {},
     "output_type": "execute_result"
    }
   ],
   "source": [
    "len(underexpose_test_click[underexpose_test_click['item_id']<0])"
   ]
  },
  {
   "cell_type": "code",
   "execution_count": 80,
   "metadata": {},
   "outputs": [
    {
     "data": {
      "text/plain": [
       "10260"
      ]
     },
     "execution_count": 80,
     "metadata": {},
     "output_type": "execute_result"
    }
   ],
   "source": [
    "underexpose_test_click[underexpose_test_click['item_id']<0].user_id.nunique()"
   ]
  },
  {
   "cell_type": "markdown",
   "metadata": {},
   "source": [
    "### 查看待预测的点击商品数据集"
   ]
  },
  {
   "cell_type": "code",
   "execution_count": 81,
   "metadata": {},
   "outputs": [
    {
     "data": {
      "text/plain": [
       "146486"
      ]
     },
     "execution_count": 81,
     "metadata": {},
     "output_type": "execute_result"
    }
   ],
   "source": [
    "len(underexpose_test_click[underexpose_test_click[\"item_id\"]!=-999])"
   ]
  },
  {
   "cell_type": "code",
   "execution_count": 82,
   "metadata": {},
   "outputs": [
    {
     "data": {
      "text/plain": [
       "10260"
      ]
     },
     "execution_count": 82,
     "metadata": {},
     "output_type": "execute_result"
    }
   ],
   "source": [
    "len(underexpose_test_click[underexpose_test_click[\"item_id\"]==-999])"
   ]
  },
  {
   "cell_type": "code",
   "execution_count": 83,
   "metadata": {},
   "outputs": [
    {
     "data": {
      "text/html": [
       "<div>\n",
       "<style scoped>\n",
       "    .dataframe tbody tr th:only-of-type {\n",
       "        vertical-align: middle;\n",
       "    }\n",
       "\n",
       "    .dataframe tbody tr th {\n",
       "        vertical-align: top;\n",
       "    }\n",
       "\n",
       "    .dataframe thead th {\n",
       "        text-align: right;\n",
       "    }\n",
       "</style>\n",
       "<table border=\"1\" class=\"dataframe\">\n",
       "  <thead>\n",
       "    <tr style=\"text-align: right;\">\n",
       "      <th></th>\n",
       "      <th>user_id</th>\n",
       "      <th>item_id</th>\n",
       "      <th>time</th>\n",
       "      <th>phase</th>\n",
       "    </tr>\n",
       "  </thead>\n",
       "  <tbody>\n",
       "    <tr>\n",
       "      <th>0</th>\n",
       "      <td>1133</td>\n",
       "      <td>221</td>\n",
       "      <td>0.983812</td>\n",
       "      <td>0</td>\n",
       "    </tr>\n",
       "    <tr>\n",
       "      <th>1</th>\n",
       "      <td>17864</td>\n",
       "      <td>253</td>\n",
       "      <td>0.983783</td>\n",
       "      <td>0</td>\n",
       "    </tr>\n",
       "    <tr>\n",
       "      <th>2</th>\n",
       "      <td>6941</td>\n",
       "      <td>309</td>\n",
       "      <td>0.983785</td>\n",
       "      <td>0</td>\n",
       "    </tr>\n",
       "    <tr>\n",
       "      <th>3</th>\n",
       "      <td>34089</td>\n",
       "      <td>358</td>\n",
       "      <td>0.983781</td>\n",
       "      <td>0</td>\n",
       "    </tr>\n",
       "    <tr>\n",
       "      <th>4</th>\n",
       "      <td>21659</td>\n",
       "      <td>536</td>\n",
       "      <td>0.983793</td>\n",
       "      <td>0</td>\n",
       "    </tr>\n",
       "  </tbody>\n",
       "</table>\n",
       "</div>"
      ],
      "text/plain": [
       "   user_id  item_id      time  phase\n",
       "0     1133      221  0.983812      0\n",
       "1    17864      253  0.983783      0\n",
       "2     6941      309  0.983785      0\n",
       "3    34089      358  0.983781      0\n",
       "4    21659      536  0.983793      0"
      ]
     },
     "execution_count": 83,
     "metadata": {},
     "output_type": "execute_result"
    }
   ],
   "source": [
    "underexpose_test_click.head()"
   ]
  },
  {
   "cell_type": "markdown",
   "metadata": {},
   "source": [
    "## 建模数据准备"
   ]
  },
  {
   "cell_type": "markdown",
   "metadata": {},
   "source": [
    "### 序列数据处理"
   ]
  },
  {
   "cell_type": "code",
   "execution_count": 84,
   "metadata": {},
   "outputs": [
    {
     "data": {
      "text/html": [
       "<div>\n",
       "<style scoped>\n",
       "    .dataframe tbody tr th:only-of-type {\n",
       "        vertical-align: middle;\n",
       "    }\n",
       "\n",
       "    .dataframe tbody tr th {\n",
       "        vertical-align: top;\n",
       "    }\n",
       "\n",
       "    .dataframe thead th {\n",
       "        text-align: right;\n",
       "    }\n",
       "</style>\n",
       "<table border=\"1\" class=\"dataframe\">\n",
       "  <thead>\n",
       "    <tr style=\"text-align: right;\">\n",
       "      <th></th>\n",
       "      <th>user_id</th>\n",
       "      <th>item_id</th>\n",
       "      <th>time</th>\n",
       "      <th>phase</th>\n",
       "    </tr>\n",
       "  </thead>\n",
       "  <tbody>\n",
       "    <tr>\n",
       "      <th>0</th>\n",
       "      <td>4965</td>\n",
       "      <td>18</td>\n",
       "      <td>0.983763</td>\n",
       "      <td>0</td>\n",
       "    </tr>\n",
       "    <tr>\n",
       "      <th>1</th>\n",
       "      <td>20192</td>\n",
       "      <td>34</td>\n",
       "      <td>0.983772</td>\n",
       "      <td>0</td>\n",
       "    </tr>\n",
       "    <tr>\n",
       "      <th>2</th>\n",
       "      <td>30128</td>\n",
       "      <td>91</td>\n",
       "      <td>0.983780</td>\n",
       "      <td>0</td>\n",
       "    </tr>\n",
       "    <tr>\n",
       "      <th>3</th>\n",
       "      <td>29473</td>\n",
       "      <td>189</td>\n",
       "      <td>0.983930</td>\n",
       "      <td>0</td>\n",
       "    </tr>\n",
       "    <tr>\n",
       "      <th>4</th>\n",
       "      <td>10625</td>\n",
       "      <td>225</td>\n",
       "      <td>0.983925</td>\n",
       "      <td>0</td>\n",
       "    </tr>\n",
       "  </tbody>\n",
       "</table>\n",
       "</div>"
      ],
      "text/plain": [
       "   user_id  item_id      time  phase\n",
       "0     4965       18  0.983763      0\n",
       "1    20192       34  0.983772      0\n",
       "2    30128       91  0.983780      0\n",
       "3    29473      189  0.983930      0\n",
       "4    10625      225  0.983925      0"
      ]
     },
     "execution_count": 84,
     "metadata": {},
     "output_type": "execute_result"
    }
   ],
   "source": [
    "underexpose_train_click.head()"
   ]
  },
  {
   "cell_type": "code",
   "execution_count": 85,
   "metadata": {},
   "outputs": [],
   "source": [
    "# {phase:{user_id:{item_seq:[], time_seq:[], diff_time_seq:[]}}}\n",
    "def deal_click_data(underexpose_click_data):\n",
    "    underexpose_click_data = underexpose_click_data.sort_values([\"user_id\", \"phase\", \"time\"])\n",
    "    dict_user_phase_action = {}\n",
    "    for i, row in tqdm(underexpose_click_data.iterrows()):\n",
    "        user_id, item_id, time, phase = int(row[\"user_id\"]), int(row[\"item_id\"]), float(row[\"time\"]), int(row[\"phase\"])\n",
    "        if phase not in dict_user_phase_action:\n",
    "            dict_user_phase_action[phase] = {}\n",
    "        if user_id not in dict_user_phase_action[phase]:\n",
    "            dict_user_phase_action[phase][user_id] = {\"item_seq\": [], \"time_seq\": [], \"diff_time_seq\": []}\n",
    "        else:\n",
    "            diff_time = (time - dict_user_phase_action[phase][user_id][\"time_seq\"][-1]) * 10**4\n",
    "            dict_user_phase_action[phase][user_id][\"diff_time_seq\"].append(diff_time)\n",
    "        dict_user_phase_action[phase][user_id][\"item_seq\"].append(item_id)\n",
    "        dict_user_phase_action[phase][user_id][\"time_seq\"].append(time)\n",
    "    return dict_user_phase_action"
   ]
  },
  {
   "cell_type": "code",
   "execution_count": 86,
   "metadata": {},
   "outputs": [
    {
     "name": "stderr",
     "output_type": "stream",
     "text": [
      "1546265it [01:27, 17699.08it/s]\n"
     ]
    }
   ],
   "source": [
    "dict_train_user_phase_action = deal_click_data(underexpose_train_click)"
   ]
  },
  {
   "cell_type": "code",
   "execution_count": 87,
   "metadata": {},
   "outputs": [
    {
     "name": "stderr",
     "output_type": "stream",
     "text": [
      "156746it [00:08, 18312.93it/s]\n"
     ]
    }
   ],
   "source": [
    "dict_test_user_phase_action = deal_click_data(underexpose_test_click)"
   ]
  },
  {
   "cell_type": "markdown",
   "metadata": {},
   "source": [
    "## 查看处理好的序列数据"
   ]
  },
  {
   "cell_type": "markdown",
   "metadata": {},
   "source": [
    "### 训练数据"
   ]
  },
  {
   "cell_type": "code",
   "execution_count": 88,
   "metadata": {},
   "outputs": [
    {
     "data": {
      "text/plain": [
       "dict_keys([0, 2, 3, 4, 5, 1])"
      ]
     },
     "execution_count": 88,
     "metadata": {},
     "output_type": "execute_result"
    }
   ],
   "source": [
    "dict_train_user_phase_action.keys()"
   ]
  },
  {
   "cell_type": "code",
   "execution_count": 89,
   "metadata": {},
   "outputs": [
    {
     "data": {
      "text/plain": [
       "16842"
      ]
     },
     "execution_count": 89,
     "metadata": {},
     "output_type": "execute_result"
    }
   ],
   "source": [
    "# 每个阶段的 user 数\n",
    "len(dict_train_user_phase_action[0].keys())"
   ]
  },
  {
   "cell_type": "code",
   "execution_count": 90,
   "metadata": {},
   "outputs": [
    {
     "data": {
      "text/plain": [
       "dict_keys(['item_seq', 'time_seq', 'diff_time_seq'])"
      ]
     },
     "execution_count": 90,
     "metadata": {},
     "output_type": "execute_result"
    }
   ],
   "source": [
    "dict_train_user_phase_action[0][1].keys()"
   ]
  },
  {
   "cell_type": "code",
   "execution_count": 91,
   "metadata": {},
   "outputs": [
    {
     "data": {
      "text/plain": [
       "13"
      ]
     },
     "execution_count": 91,
     "metadata": {},
     "output_type": "execute_result"
    }
   ],
   "source": [
    "len(dict_train_user_phase_action[0][1][\"item_seq\"])"
   ]
  },
  {
   "cell_type": "code",
   "execution_count": 92,
   "metadata": {},
   "outputs": [
    {
     "data": {
      "text/plain": [
       "13"
      ]
     },
     "execution_count": 92,
     "metadata": {},
     "output_type": "execute_result"
    }
   ],
   "source": [
    "len(dict_train_user_phase_action[0][1][\"time_seq\"])"
   ]
  },
  {
   "cell_type": "code",
   "execution_count": 93,
   "metadata": {},
   "outputs": [
    {
     "data": {
      "text/plain": [
       "[0.15036582135641297,\n",
       " 0.06781414004120023,\n",
       " 0.06995285001254459,\n",
       " 0.19074264676177677,\n",
       " 0.00020819300394769868,\n",
       " 0.8595342885475699,\n",
       " 0.016434629716011173,\n",
       " 0.09419787189268725,\n",
       " 0.0009589496041684242,\n",
       " 0.0030724240551727178,\n",
       " 0.0671453988720927,\n",
       " 0.4826923299483532]"
      ]
     },
     "execution_count": 93,
     "metadata": {},
     "output_type": "execute_result"
    }
   ],
   "source": [
    "dict_train_user_phase_action[0][1][\"diff_time_seq\"]"
   ]
  },
  {
   "cell_type": "markdown",
   "metadata": {},
   "source": [
    "### 测试数据"
   ]
  },
  {
   "cell_type": "code",
   "execution_count": 94,
   "metadata": {},
   "outputs": [
    {
     "data": {
      "text/plain": [
       "dict_keys([1, 2, 3, 0, 4, 5])"
      ]
     },
     "execution_count": 94,
     "metadata": {},
     "output_type": "execute_result"
    }
   ],
   "source": [
    "dict_test_user_phase_action.keys()"
   ]
  },
  {
   "cell_type": "code",
   "execution_count": 95,
   "metadata": {},
   "outputs": [
    {
     "data": {
      "text/plain": [
       "1663"
      ]
     },
     "execution_count": 95,
     "metadata": {},
     "output_type": "execute_result"
    }
   ],
   "source": [
    "len(dict_test_user_phase_action[0].keys())"
   ]
  },
  {
   "cell_type": "code",
   "execution_count": 96,
   "metadata": {},
   "outputs": [
    {
     "data": {
      "text/plain": [
       "dict_keys(['item_seq', 'time_seq', 'diff_time_seq'])"
      ]
     },
     "execution_count": 96,
     "metadata": {},
     "output_type": "execute_result"
    }
   ],
   "source": [
    "dict_test_user_phase_action[0][22].keys()"
   ]
  },
  {
   "cell_type": "code",
   "execution_count": 98,
   "metadata": {},
   "outputs": [
    {
     "data": {
      "text/plain": [
       "18"
      ]
     },
     "execution_count": 98,
     "metadata": {},
     "output_type": "execute_result"
    }
   ],
   "source": [
    "len(dict_test_user_phase_action[0][22][\"item_seq\"])"
   ]
  },
  {
   "cell_type": "code",
   "execution_count": 99,
   "metadata": {},
   "outputs": [
    {
     "data": {
      "text/plain": [
       "18"
      ]
     },
     "execution_count": 99,
     "metadata": {},
     "output_type": "execute_result"
    }
   ],
   "source": [
    "len(dict_test_user_phase_action[0][22][\"time_seq\"])"
   ]
  },
  {
   "cell_type": "code",
   "execution_count": 100,
   "metadata": {},
   "outputs": [
    {
     "data": {
      "text/plain": [
       "[0.0007570654769750718,\n",
       " 0.00022081076411772926,\n",
       " 0.0005867257435454576,\n",
       " 0.00016403085223437586,\n",
       " 0.2536484789639193,\n",
       " 0.001526748711899728,\n",
       " 0.00011986869941083,\n",
       " 0.0889236490742018,\n",
       " 0.1566810092046289,\n",
       " 0.0005993435014950421,\n",
       " 0.43729994576358067,\n",
       " 0.027254357148898123,\n",
       " 0.03961345104719349,\n",
       " 0.05773255144836398,\n",
       " 0.020188412703792125,\n",
       " 0.5290688992520831,\n",
       " 0.0004416215282354585]"
      ]
     },
     "execution_count": 100,
     "metadata": {},
     "output_type": "execute_result"
    }
   ],
   "source": [
    "dict_test_user_phase_action[0][22][\"diff_time_seq\"]"
   ]
  },
  {
   "cell_type": "code",
   "execution_count": 101,
   "metadata": {},
   "outputs": [],
   "source": [
    "# dict_user_feat, {user_id:{age:a, gender: g, city: c}}\n",
    "# dict_user_age_level, dict_user_gender, dict_user_city_level 是各自离散化后的字典\n",
    "def deal_user_feat_data(user_feat_data):\n",
    "    user_feat_data = user_feat_data.fillna(-1)\n",
    "    dict_user_feat = {}\n",
    "    dict_user_age_level, index_user_age_level = {}, 0\n",
    "    dict_user_gender, index_user_gender = {}, 0\n",
    "    dict_user_city_level, index_user_city_level = {}, 0\n",
    "    \n",
    "    for i, row in tqdm(user_feat_data.iterrows()):\n",
    "        user_id, user_age_level, user_gender, user_city_level = int(row[\"user_id\"]), int(row[\"user_age_level\"]), row[\"user_gender\"], int(row[\"user_city_level\"])\n",
    "        if user_id not in dict_user_feat:\n",
    "            dict_user_feat[user_id] = {}\n",
    "        if user_age_level not in dict_user_age_level:\n",
    "            dict_user_age_level[user_age_level] = index_user_age_level\n",
    "            index_user_age_level += 1\n",
    "        if user_gender not in dict_user_gender:\n",
    "            dict_user_gender[user_gender] = index_user_gender\n",
    "            index_user_gender += 1\n",
    "        if user_city_level not in dict_user_city_level:\n",
    "            dict_user_city_level[user_city_level] = index_user_city_level\n",
    "            index_user_city_level += 1\n",
    "        \n",
    "        dict_user_feat[user_id][\"user_age_level\"] = dict_user_age_level[user_age_level]\n",
    "        dict_user_feat[user_id][\"user_gender\"] = dict_user_gender[user_gender]\n",
    "        dict_user_feat[user_id][\"user_city_level\"] = dict_user_city_level[user_city_level]\n",
    "    \n",
    "    return dict_user_feat, dict_user_age_level, dict_user_gender, dict_user_city_level"
   ]
  },
  {
   "cell_type": "code",
   "execution_count": 102,
   "metadata": {},
   "outputs": [
    {
     "name": "stderr",
     "output_type": "stream",
     "text": [
      "6789it [00:00, 12963.74it/s]\n"
     ]
    }
   ],
   "source": [
    "dict_user_feat, dict_user_age_level, dict_user_gender, dict_user_city_level = deal_user_feat_data(underexpose_user_feat)"
   ]
  },
  {
   "cell_type": "code",
   "execution_count": 103,
   "metadata": {},
   "outputs": [
    {
     "data": {
      "text/plain": [
       "{'user_age_level': 0, 'user_gender': 0, 'user_city_level': 0}"
      ]
     },
     "execution_count": 103,
     "metadata": {},
     "output_type": "execute_result"
    }
   ],
   "source": [
    "dict_user_feat[17]"
   ]
  },
  {
   "cell_type": "code",
   "execution_count": 104,
   "metadata": {},
   "outputs": [
    {
     "data": {
      "text/plain": [
       "{8: 0, 7: 1, 6: 2, 5: 3, 4: 4, -1: 5, 2: 6, 3: 7, 1: 8}"
      ]
     },
     "execution_count": 104,
     "metadata": {},
     "output_type": "execute_result"
    }
   ],
   "source": [
    "dict_user_age_level"
   ]
  },
  {
   "cell_type": "code",
   "execution_count": 105,
   "metadata": {},
   "outputs": [
    {
     "data": {
      "text/plain": [
       "{'M': 0, 'F': 1, -1: 2}"
      ]
     },
     "execution_count": 105,
     "metadata": {},
     "output_type": "execute_result"
    }
   ],
   "source": [
    "dict_user_gender"
   ]
  },
  {
   "cell_type": "code",
   "execution_count": 106,
   "metadata": {},
   "outputs": [
    {
     "data": {
      "text/plain": [
       "{4: 0, 2: 1, 1: 2, 6: 3, -1: 4, 3: 5, 5: 6}"
      ]
     },
     "execution_count": 106,
     "metadata": {},
     "output_type": "execute_result"
    }
   ],
   "source": [
    "dict_user_city_level"
   ]
  },
  {
   "cell_type": "markdown",
   "metadata": {},
   "source": [
    "## 商品数据处理"
   ]
  },
  {
   "cell_type": "code",
   "execution_count": 107,
   "metadata": {},
   "outputs": [
    {
     "data": {
      "text/html": [
       "<div>\n",
       "<style scoped>\n",
       "    .dataframe tbody tr th:only-of-type {\n",
       "        vertical-align: middle;\n",
       "    }\n",
       "\n",
       "    .dataframe tbody tr th {\n",
       "        vertical-align: top;\n",
       "    }\n",
       "\n",
       "    .dataframe thead th {\n",
       "        text-align: right;\n",
       "    }\n",
       "</style>\n",
       "<table border=\"1\" class=\"dataframe\">\n",
       "  <thead>\n",
       "    <tr style=\"text-align: right;\">\n",
       "      <th></th>\n",
       "      <th>item_id</th>\n",
       "      <th>txt_vec</th>\n",
       "      <th>img_vec</th>\n",
       "    </tr>\n",
       "  </thead>\n",
       "  <tbody>\n",
       "    <tr>\n",
       "      <th>0</th>\n",
       "      <td>42844</td>\n",
       "      <td>4.514945030212402, -2.3837196826934814, 0.5004...</td>\n",
       "      <td>-2.8722801208496094, 1.4587551355361938, 2.579...</td>\n",
       "    </tr>\n",
       "    <tr>\n",
       "      <th>1</th>\n",
       "      <td>67898</td>\n",
       "      <td>-2.0029051303863525, -0.9298805594444275, 0.79...</td>\n",
       "      <td>-0.07052088528871536, -1.4393335580825806, 0.7...</td>\n",
       "    </tr>\n",
       "    <tr>\n",
       "      <th>2</th>\n",
       "      <td>66446</td>\n",
       "      <td>4.221673011779785, -1.4971394538879395, 1.1335...</td>\n",
       "      <td>-5.18036413192749, -0.38824713230133057, -0.03...</td>\n",
       "    </tr>\n",
       "    <tr>\n",
       "      <th>3</th>\n",
       "      <td>63651</td>\n",
       "      <td>2.6579699516296387, -0.941863477230072, 1.1215...</td>\n",
       "      <td>-1.077273964881897, 2.8394529819488525, 1.1834...</td>\n",
       "    </tr>\n",
       "    <tr>\n",
       "      <th>4</th>\n",
       "      <td>46824</td>\n",
       "      <td>3.192194938659668, -1.9366759061813354, 1.1999...</td>\n",
       "      <td>-3.2601945400238037, 0.49889034032821655, 2.58...</td>\n",
       "    </tr>\n",
       "  </tbody>\n",
       "</table>\n",
       "</div>"
      ],
      "text/plain": [
       "  item_id                                            txt_vec  \\\n",
       "0   42844  4.514945030212402, -2.3837196826934814, 0.5004...   \n",
       "1   67898  -2.0029051303863525, -0.9298805594444275, 0.79...   \n",
       "2   66446  4.221673011779785, -1.4971394538879395, 1.1335...   \n",
       "3   63651  2.6579699516296387, -0.941863477230072, 1.1215...   \n",
       "4   46824  3.192194938659668, -1.9366759061813354, 1.1999...   \n",
       "\n",
       "                                             img_vec  \n",
       "0  -2.8722801208496094, 1.4587551355361938, 2.579...  \n",
       "1  -0.07052088528871536, -1.4393335580825806, 0.7...  \n",
       "2  -5.18036413192749, -0.38824713230133057, -0.03...  \n",
       "3  -1.077273964881897, 2.8394529819488525, 1.1834...  \n",
       "4  -3.2601945400238037, 0.49889034032821655, 2.58...  "
      ]
     },
     "execution_count": 107,
     "metadata": {},
     "output_type": "execute_result"
    }
   ],
   "source": [
    "underexpose_item_feat.head()"
   ]
  },
  {
   "cell_type": "code",
   "execution_count": 108,
   "metadata": {},
   "outputs": [],
   "source": [
    "# dict_item_feat， {item_id:{txt_vec: [], img_vec: []}}\n",
    "def deal_item_feat_data(item_feat_data):\n",
    "    dict_item_feat = {}\n",
    "    for i,row in tqdm(item_feat_data.iterrows()):    \n",
    "        item_id, txt_vec, img_vec = int(row[\"item_id\"]), [float(x_) for x_ in row[\"txt_vec\"].split(\",\")], [float(x_) for x_ in row[\"img_vec\"].split(\",\")]   \n",
    "        if item_id not in dict_item_feat:\n",
    "            dict_item_feat[item_id] = {}\n",
    "        dict_item_feat[item_id][\"txt_vec\"] = txt_vec\n",
    "        dict_item_feat[item_id][\"img_vec\"] = img_vec\n",
    "    return dict_item_feat"
   ]
  },
  {
   "cell_type": "code",
   "execution_count": 109,
   "metadata": {},
   "outputs": [
    {
     "name": "stderr",
     "output_type": "stream",
     "text": [
      "108916it [00:26, 4178.99it/s]\n"
     ]
    }
   ],
   "source": [
    "dict_item_feat = deal_item_feat_data(underexpose_item_feat)"
   ]
  },
  {
   "cell_type": "code",
   "execution_count": 110,
   "metadata": {},
   "outputs": [
    {
     "data": {
      "text/plain": [
       "dict_keys(['txt_vec', 'img_vec'])"
      ]
     },
     "execution_count": 110,
     "metadata": {},
     "output_type": "execute_result"
    }
   ],
   "source": [
    "dict_item_feat[1].keys()"
   ]
  },
  {
   "cell_type": "code",
   "execution_count": 111,
   "metadata": {},
   "outputs": [
    {
     "data": {
      "text/plain": [
       "128"
      ]
     },
     "execution_count": 111,
     "metadata": {},
     "output_type": "execute_result"
    }
   ],
   "source": [
    "len(dict_item_feat[1][\"txt_vec\"])"
   ]
  },
  {
   "cell_type": "code",
   "execution_count": 112,
   "metadata": {},
   "outputs": [
    {
     "data": {
      "text/plain": [
       "128"
      ]
     },
     "execution_count": 112,
     "metadata": {},
     "output_type": "execute_result"
    }
   ],
   "source": [
    "len(dict_item_feat[1][\"img_vec\"])"
   ]
  },
  {
   "cell_type": "markdown",
   "metadata": {},
   "source": [
    "## id 转化为 embedding 特征"
   ]
  },
  {
   "cell_type": "markdown",
   "metadata": {},
   "source": [
    "### user_id 与 item_id"
   ]
  },
  {
   "cell_type": "code",
   "execution_count": 114,
   "metadata": {},
   "outputs": [],
   "source": [
    "def get_node_user_item(underexpose_train_click, underexpose_test_click):\n",
    "    list_user_id = []\n",
    "    list_item_id = []\n",
    "    list_index_user_id = []\n",
    "    list_index_item_id = []\n",
    "    list_score = []\n",
    "    index_user_id = 0\n",
    "    index_item_id = 0\n",
    "    dict_user_id = {}\n",
    "    dict_item_id = {}\n",
    "    \n",
    "    list_underexpose_click = [underexpose_train_click, underexpose_test_click]\n",
    "    for underexpose_click in list_underexpose_click:\n",
    "        for i, row in tqdm(underexpose_click.iterrows()):\n",
    "            user_id, item_id, time, phase = int(row[\"user_id\"]), int(row[\"item_id\"]), float(row[\"time\"]), int(row[\"phase\"])\n",
    "            if item_id > 0: # 非预测数据集\n",
    "                list_user_id.append(user_id)\n",
    "                list_item_id.append(item_id)\n",
    "                list_score.append(1)\n",
    "                if user_id not in dict_user_id:\n",
    "                    dict_user_id[user_id] = index_user_id # 标记为 unique user_id\n",
    "                    index_user_id += 1\n",
    "                list_index_user_id.append(dict_user_id[user_id]) # 记录 unique user_id\n",
    "                \n",
    "                if item_id not in dict_item_id:\n",
    "                    dict_item_id[item_id] = index_item_id\n",
    "                    index_item_id += 1\n",
    "                list_index_item_id.append(dict_item_id[item_id])\n",
    "    \n",
    "    node_user_item = pd.DataFrame({\n",
    "        \"user_id\": list_user_id, \n",
    "        \"item_id\": list_item_id, \n",
    "        \"score\": list_score, \n",
    "        \"index_user_id\": list_index_user_id,\n",
    "        \"index_item_id\": list_index_item_id\n",
    "    })\n",
    "    # user_id 对 item_id 的点击频率\n",
    "    node_user_item = node_user_item.groupby([\"user_id\", \"item_id\", \"index_user_id\", \"index_item_id\"])[\"score\"].sum().reset_index()\n",
    "    node_user_item.columns = [\"user_id\", \"item_id\", \"index_user_id\", \"index_item_id\", \"score\"]\n",
    "    return node_user_item, dict_user_id, dict_item_id"
   ]
  },
  {
   "cell_type": "code",
   "execution_count": 115,
   "metadata": {},
   "outputs": [
    {
     "name": "stderr",
     "output_type": "stream",
     "text": [
      "1546265it [01:25, 18173.03it/s]\n",
      "156746it [00:08, 18112.50it/s]\n"
     ]
    }
   ],
   "source": [
    "node_user_item, dict_user_id, dict_item_id = get_node_user_item(underexpose_train_click, underexpose_test_click)"
   ]
  },
  {
   "cell_type": "code",
   "execution_count": 116,
   "metadata": {},
   "outputs": [
    {
     "data": {
      "text/plain": [
       "(0, 29570)"
      ]
     },
     "execution_count": 116,
     "metadata": {},
     "output_type": "execute_result"
    }
   ],
   "source": [
    "node_user_item.index_user_id.min(), node_user_item.index_user_id.max()"
   ]
  },
  {
   "cell_type": "code",
   "execution_count": 117,
   "metadata": {},
   "outputs": [
    {
     "data": {
      "text/plain": [
       "(0, 89472)"
      ]
     },
     "execution_count": 117,
     "metadata": {},
     "output_type": "execute_result"
    }
   ],
   "source": [
    "node_user_item.index_item_id.min(), node_user_item.index_item_id.max()"
   ]
  },
  {
   "cell_type": "markdown",
   "metadata": {},
   "source": [
    "## 查看 underexpose_user_feat、underexpose_train_click、underexpose_test_click 的用户"
   ]
  },
  {
   "cell_type": "markdown",
   "metadata": {},
   "source": [
    "### 三者各自用户数"
   ]
  },
  {
   "cell_type": "code",
   "execution_count": 124,
   "metadata": {},
   "outputs": [
    {
     "data": {
      "text/plain": [
       "(6786, 29128, 10260)"
      ]
     },
     "execution_count": 124,
     "metadata": {},
     "output_type": "execute_result"
    }
   ],
   "source": [
    "underexpose_user_feat.user_id.nunique(), underexpose_train_click.user_id.nunique(), underexpose_test_click.user_id.nunique()"
   ]
  },
  {
   "cell_type": "markdown",
   "metadata": {},
   "source": [
    "### 点击数据集的用户数"
   ]
  },
  {
   "cell_type": "code",
   "execution_count": 130,
   "metadata": {},
   "outputs": [
    {
     "data": {
      "text/plain": [
       "29571"
      ]
     },
     "execution_count": 130,
     "metadata": {},
     "output_type": "execute_result"
    }
   ],
   "source": [
    "len((set(underexpose_test_click.user_id.astype(str)) | set(underexpose_train_click.user_id.astype(str))))"
   ]
  },
  {
   "cell_type": "markdown",
   "metadata": {},
   "source": [
    "### 点击数据集(train+test) 与 用户数据集 的共同用户数"
   ]
  },
  {
   "cell_type": "code",
   "execution_count": 118,
   "metadata": {},
   "outputs": [
    {
     "data": {
      "text/plain": [
       "5844"
      ]
     },
     "execution_count": 118,
     "metadata": {},
     "output_type": "execute_result"
    }
   ],
   "source": [
    "len((set(underexpose_test_click.user_id.astype(str)) | set(underexpose_train_click.user_id.astype(str)))\n",
    "    & set(underexpose_user_feat.user_id.astype(str)))"
   ]
  },
  {
   "cell_type": "markdown",
   "metadata": {},
   "source": [
    "### 点击数据集(train+test) - 用户数据集 的差异用户数"
   ]
  },
  {
   "cell_type": "code",
   "execution_count": 119,
   "metadata": {},
   "outputs": [
    {
     "data": {
      "text/plain": [
       "23727"
      ]
     },
     "execution_count": 119,
     "metadata": {},
     "output_type": "execute_result"
    }
   ],
   "source": [
    "len((set(underexpose_test_click.user_id.astype(str)) | set(underexpose_train_click.user_id.astype(str))) \n",
    "    - set(underexpose_user_feat.user_id.astype(str)))"
   ]
  },
  {
   "cell_type": "markdown",
   "metadata": {},
   "source": [
    "### 用户数据集 - 点击数据集(train+test) 的差异用户数"
   ]
  },
  {
   "cell_type": "code",
   "execution_count": 120,
   "metadata": {},
   "outputs": [
    {
     "data": {
      "text/plain": [
       "942"
      ]
     },
     "execution_count": 120,
     "metadata": {},
     "output_type": "execute_result"
    }
   ],
   "source": [
    "len(set(underexpose_user_feat.user_id.astype(str)) \n",
    "    - (set(underexpose_test_click.user_id.astype(str)) | set(underexpose_train_click.user_id.astype(str))))"
   ]
  },
  {
   "cell_type": "markdown",
   "metadata": {},
   "source": [
    "### 三者并集"
   ]
  },
  {
   "cell_type": "code",
   "execution_count": 123,
   "metadata": {},
   "outputs": [
    {
     "data": {
      "text/plain": [
       "30513"
      ]
     },
     "execution_count": 123,
     "metadata": {},
     "output_type": "execute_result"
    }
   ],
   "source": [
    "len(set(underexpose_user_feat.user_id.astype(str)) | set(underexpose_test_click.user_id.astype(str)) | set(underexpose_train_click.user_id.astype(str)))"
   ]
  },
  {
   "cell_type": "markdown",
   "metadata": {},
   "source": [
    "## 查看 underexpose_user_feat、underexpose_train_click、underexpose_test_click 的商品"
   ]
  },
  {
   "cell_type": "markdown",
   "metadata": {},
   "source": [
    "### 三者各自商品数"
   ]
  },
  {
   "cell_type": "code",
   "execution_count": 128,
   "metadata": {},
   "outputs": [
    {
     "data": {
      "text/plain": [
       "(108916, 89468, 56957)"
      ]
     },
     "execution_count": 128,
     "metadata": {},
     "output_type": "execute_result"
    }
   ],
   "source": [
    "underexpose_item_feat.item_id.nunique(), underexpose_train_click.item_id.nunique(), underexpose_test_click.item_id.nunique()"
   ]
  },
  {
   "cell_type": "markdown",
   "metadata": {},
   "source": [
    "### 点击数据商品数"
   ]
  },
  {
   "cell_type": "code",
   "execution_count": 131,
   "metadata": {},
   "outputs": [
    {
     "data": {
      "text/plain": [
       "89474"
      ]
     },
     "execution_count": 131,
     "metadata": {},
     "output_type": "execute_result"
    }
   ],
   "source": [
    "len((set(underexpose_test_click.item_id.astype(str)) | set(underexpose_train_click.item_id.astype(str))))"
   ]
  },
  {
   "cell_type": "markdown",
   "metadata": {},
   "source": [
    "### 点击数据集(train+test) 与 商品数据集 的共同商品数"
   ]
  },
  {
   "cell_type": "code",
   "execution_count": 129,
   "metadata": {},
   "outputs": [
    {
     "data": {
      "text/plain": [
       "83442"
      ]
     },
     "execution_count": 129,
     "metadata": {},
     "output_type": "execute_result"
    }
   ],
   "source": [
    "len((set(underexpose_test_click.item_id.astype(str)) | set(underexpose_train_click.item_id.astype(str)))\n",
    "    & set(underexpose_item_feat.item_id.astype(str)))"
   ]
  },
  {
   "cell_type": "markdown",
   "metadata": {},
   "source": [
    "### 点击数据集(train+test) - 商品数据集 的差异商品数"
   ]
  },
  {
   "cell_type": "code",
   "execution_count": 132,
   "metadata": {},
   "outputs": [
    {
     "data": {
      "text/plain": [
       "6032"
      ]
     },
     "execution_count": 132,
     "metadata": {},
     "output_type": "execute_result"
    }
   ],
   "source": [
    "len((set(underexpose_test_click.item_id.astype(str)) | set(underexpose_train_click.item_id.astype(str)))\n",
    "    - set(underexpose_item_feat.item_id.astype(str)))"
   ]
  },
  {
   "cell_type": "markdown",
   "metadata": {},
   "source": [
    "### 商品数据集 - 点击数据集(train+test) 的差异商品数"
   ]
  },
  {
   "cell_type": "code",
   "execution_count": 133,
   "metadata": {},
   "outputs": [
    {
     "data": {
      "text/plain": [
       "25474"
      ]
     },
     "execution_count": 133,
     "metadata": {},
     "output_type": "execute_result"
    }
   ],
   "source": [
    "len(set(underexpose_item_feat.item_id.astype(str))\n",
    "    - (set(underexpose_test_click.item_id.astype(str)) | set(underexpose_train_click.item_id.astype(str))))"
   ]
  },
  {
   "cell_type": "markdown",
   "metadata": {},
   "source": [
    "### 三者并集"
   ]
  },
  {
   "cell_type": "code",
   "execution_count": 135,
   "metadata": {},
   "outputs": [
    {
     "data": {
      "text/plain": [
       "114948"
      ]
     },
     "execution_count": 135,
     "metadata": {},
     "output_type": "execute_result"
    }
   ],
   "source": [
    "len(set(underexpose_item_feat.item_id.astype(str)) | set(underexpose_test_click.item_id.astype(str)) | set(underexpose_train_click.item_id.astype(str)))"
   ]
  },
  {
   "cell_type": "code",
   "execution_count": null,
   "metadata": {},
   "outputs": [],
   "source": []
  }
 ],
 "metadata": {
  "kernelspec": {
   "display_name": "Python 3",
   "language": "python",
   "name": "python3"
  },
  "language_info": {
   "codemirror_mode": {
    "name": "ipython",
    "version": 3
   },
   "file_extension": ".py",
   "mimetype": "text/x-python",
   "name": "python",
   "nbconvert_exporter": "python",
   "pygments_lexer": "ipython3",
   "version": "3.7.0"
  }
 },
 "nbformat": 4,
 "nbformat_minor": 2
}
